{
 "cells": [
  {
   "cell_type": "markdown",
   "metadata": {},
   "source": [
    "# FA20 Pymongo Workshop"
   ]
  },
  {
   "cell_type": "markdown",
   "metadata": {},
   "source": [
    "## Introduction\n",
    "\n",
    "The Covid-19 situation has sent the FOSSASIA helpers into a flurry! There are many speakers, many rooms and many sessions going on all at once- but the data is all over the place. Create a database to manage the huge overload of information!\n",
    "\n",
    "The <em>database</em>, called <b>FA20</b> will consist of several <em>collections</em>:\n",
    "1. RoomNames\n",
    "    * Consists of the list of rooms available for the event\n",
    "2. TrackNames\n",
    "    * Consists of the list of tracks available for the event\n",
    "3. Sessions\n",
    "    * Consists of the sessions for March 19-21\n",
    "4. Speakers\n",
    "    * Consists of the speakers for the event"
   ]
  },
  {
   "cell_type": "code",
   "execution_count": 16,
   "metadata": {},
   "outputs": [
    {
     "name": "stdout",
     "output_type": "stream",
     "text": [
      "[' Event Hall 2-1', ' Event Hall 2-2', ' Exhibition Hands-on Space', ' Lecture Theatre', ' Training Room 2-1', ' Training Room 2-2']\n",
      "{'Title': 'FOSSASIA Summit 2020 - Towards a Sustainable Society', 'Time': '10:00 - 10:10', 'Speakers': 'Kiruthika Ramanathan(Senior Manager Science Centre Singapore), Roland Turner(OpenTech Summit Organising Team | Chief Privacy Officer FOSSASIA | TrustSphere)', 'SessionType': 'Talk'}\n"
     ]
    }
   ],
   "source": [
    "# Example reading of file\n",
    "\n",
    "import json\n",
    "\n",
    "with open (\"DataFiles/RoomNames.json\", \"r\") as room_names_file:\n",
    "    room_names_data = json.loads(room_names_file.read())\n",
    "    \n",
    "print(room_names_data)\n",
    "\n",
    "with open (\"DataFiles/March19.json\", \"r\") as march19_file:\n",
    "    march19_data = json.loads(march19_file.read())\n",
    "    \n",
    "print(march19_data[0])"
   ]
  },
  {
   "cell_type": "markdown",
   "metadata": {},
   "source": [
    "## Create the RoomNames collection\n",
    "Each document should have a schema as such:\n",
    "```{\"Name\": RoomName}```"
   ]
  },
  {
   "cell_type": "code",
   "execution_count": null,
   "metadata": {},
   "outputs": [],
   "source": []
  },
  {
   "cell_type": "markdown",
   "metadata": {},
   "source": [
    "## Create the TrackNames collection\n",
    "Each document should have a schema as such:\n",
    "```{\"Name\": TrackName}```\n",
    "\n",
    "Bonus: Add your own description to the tracks!\n",
    "```{\"Name\": TrackName, \"Description\": \"\"}```"
   ]
  },
  {
   "cell_type": "code",
   "execution_count": null,
   "metadata": {},
   "outputs": [],
   "source": []
  },
  {
   "cell_type": "markdown",
   "metadata": {},
   "source": [
    "## Create the Sessions collection\n",
    "\n",
    "Each document should have a schema as such: \n",
    "```{\"Date\": Date, \"Title\": Title, \"Time\": Time, \"Speakers\": Speakers, \"SessionType\": Type}```\n",
    "\n",
    "Think about the data formats: Right now, the ```Speakers``` key in the JSON file corresponds to a string that is separated with a vertical bar (|) character, which makes it hard to process - can you do better?"
   ]
  },
  {
   "cell_type": "code",
   "execution_count": null,
   "metadata": {},
   "outputs": [],
   "source": []
  },
  {
   "cell_type": "markdown",
   "metadata": {},
   "source": [
    "## Create the Speakers collection\n",
    "I have unfortunately lost the JSON file containing the list of speakers as well as their respective positions.\n",
    "For example, in the first talk \"FOSSASIA Summit 2020 - Towards a Sustainable Society\", we have <b>Kiruthika Ramanathan(Senior Manager Science Centre Singapore)</b>, where her position is enclosed in the bracket (This is a clue to where you can get the Speakers information from).\n",
    "\n",
    "Can you help to create a collection with the following schema?\n",
    "```{\"Name\": SpeakerName, \"Position\": Position}```"
   ]
  },
  {
   "cell_type": "code",
   "execution_count": null,
   "metadata": {},
   "outputs": [],
   "source": []
  },
  {
   "cell_type": "code",
   "execution_count": null,
   "metadata": {},
   "outputs": [],
   "source": []
  }
 ],
 "metadata": {
  "kernelspec": {
   "display_name": "Python 3",
   "language": "python",
   "name": "python3"
  },
  "language_info": {
   "codemirror_mode": {
    "name": "ipython",
    "version": 3
   },
   "file_extension": ".py",
   "mimetype": "text/x-python",
   "name": "python",
   "nbconvert_exporter": "python",
   "pygments_lexer": "ipython3",
   "version": "3.8.0"
  }
 },
 "nbformat": 4,
 "nbformat_minor": 2
}
